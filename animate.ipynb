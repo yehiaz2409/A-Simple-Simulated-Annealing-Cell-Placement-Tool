{
 "cells": [
  {
   "cell_type": "code",
   "execution_count": 16,
   "metadata": {},
   "outputs": [],
   "source": [
    "import subprocess\n",
    "import imageio\n",
    "import numpy as np\n",
    "import matplotlib.pyplot as plt\n",
    "import os\n",
    "import time"
   ]
  },
  {
   "cell_type": "code",
   "execution_count": 17,
   "metadata": {},
   "outputs": [],
   "source": [
    "def read_grids_from_file(grid_file):\n",
    "    with open(grid_file, 'r') as file: #opens grid.txt\n",
    "        lines = file.readlines()\n",
    "\n",
    "    grids = []\n",
    "    current_grid = []\n",
    "    for line in lines: #reads the grid from the file\n",
    "        if line.strip() == \"\":\n",
    "            if current_grid:\n",
    "                grids.append(np.array(current_grid))\n",
    "                current_grid = []\n",
    "        else:\n",
    "            current_grid.append(list(map(int, line.strip().split())))\n",
    "\n",
    "    if current_grid:\n",
    "        grids.append(np.array(current_grid))\n",
    "\n",
    "    return grids"
   ]
  },
  {
   "cell_type": "code",
   "execution_count": 50,
   "metadata": {},
   "outputs": [],
   "source": [
    "def visualize_grid(grid, cost, output_file):\n",
    "    fig, ax = plt.subplots(figsize=(8, 6))  # Create a figure and an axis object\n",
    "    cmap = plt.cm.viridis\n",
    "    cmap.set_bad(color='black')\n",
    "    masked_grid = np.ma.masked_where(grid == -1, grid)\n",
    "    \n",
    "    cax = ax.matshow(masked_grid, cmap=cmap, interpolation='nearest')\n",
    "    \n",
    "    for i in range(grid.shape[0]):\n",
    "        for j in range(grid.shape[1]):\n",
    "            if grid[i, j] != -1:\n",
    "                ax.text(j, i, str(grid[i, j]), va='center', ha='center', color='white', fontsize=4)\n",
    "            else:\n",
    "                ax.add_patch(plt.Rectangle((j - 0.5, i - 0.5), 1, 1, fill=True, color='black'))\n",
    "\n",
    "    # Display the cost on the figure\n",
    "    fig.text(0.5, 0.05, f'Total Cost: {cost}', va='top', ha='center', fontsize=12, color='black')\n",
    "\n",
    "    plt.savefig(output_file)\n",
    "    plt.close()\n"
   ]
  },
  {
   "cell_type": "code",
   "execution_count": 19,
   "metadata": {},
   "outputs": [],
   "source": [
    "def read_cost_from_file(cost_file):\n",
    "    with open(cost_file, 'r') as file:\n",
    "        return file.read().strip()\n"
   ]
  },
  {
   "cell_type": "code",
   "execution_count": 20,
   "metadata": {},
   "outputs": [],
   "source": [
    "def create_gif_from_grids(grids, gif_file, cost_file, temp_dir='temp_frames', duration=0.5):\n",
    "    if not os.path.exists(temp_dir):\n",
    "        os.makedirs(temp_dir)\n",
    "\n",
    "    cost = read_cost_from_file(cost_file)  # Read the total cost\n",
    "    frame_files = []\n",
    "    for i, grid in enumerate(grids):\n",
    "        frame_file = os.path.join(temp_dir, f'frame_{i:04d}.png')\n",
    "        visualize_grid(grid, cost, frame_file)  # Pass the cost to the visualize function\n",
    "        frame_files.append(frame_file)\n",
    "\n",
    "    with imageio.get_writer(gif_file, mode='I', duration=duration) as writer:\n",
    "        for frame_file in frame_files:\n",
    "            image = imageio.imread(frame_file)\n",
    "            writer.append_data(image)\n",
    "\n",
    "    for frame_file in frame_files:\n",
    "        os.remove(frame_file)\n",
    "    os.rmdir(temp_dir)\n"
   ]
  },
  {
   "cell_type": "code",
   "execution_count": 21,
   "metadata": {},
   "outputs": [],
   "source": [
    "def clear_file(file_path): #clear grids.txt for following run\n",
    "    with open(file_path, 'w') as file:\n",
    "        pass  # Opening in 'w' mode will truncate the file"
   ]
  },
  {
   "cell_type": "code",
   "execution_count": 22,
   "metadata": {},
   "outputs": [],
   "source": [
    "def run_command(command):\n",
    "    try:\n",
    "        result = subprocess.run(command, shell=True, check=True, stdout=subprocess.PIPE, stderr=subprocess.PIPE)\n",
    "        print(\"Command output:\", result.stdout.decode())\n",
    "        print(\"Command error (if any):\", result.stderr.decode())\n",
    "    except subprocess.CalledProcessError as e:\n",
    "        print(\"Error executing command:\", e)\n",
    "        print(\"Command output:\", e.stdout.decode())\n",
    "        print(\"Command error:\", e.stderr.decode())"
   ]
  },
  {
   "cell_type": "code",
   "execution_count": 40,
   "metadata": {},
   "outputs": [
    {
     "name": "stdout",
     "output_type": "stream",
     "text": [
      "Command output: \n",
      "Command error (if any): main.cpp:85:8: warning: 'auto' type specifier is a C++11 extension [-Wc++11-extensions]\n",
      "  for (auto cell : nets[net]) {\n",
      "       ^\n",
      "main.cpp:85:18: warning: range-based for loop is a C++11 extension [-Wc++11-extensions]\n",
      "  for (auto cell : nets[net]) {\n",
      "                 ^\n",
      "main.cpp:133:16: warning: 'auto' type specifier is a C++11 extension [-Wc++11-extensions]\n",
      "    for (const auto& row : grid) {\n",
      "               ^\n",
      "main.cpp:133:26: warning: range-based for loop is a C++11 extension [-Wc++11-extensions]\n",
      "    for (const auto& row : grid) {\n",
      "                         ^\n",
      "main.cpp:134:20: warning: 'auto' type specifier is a C++11 extension [-Wc++11-extensions]\n",
      "        for (const auto& cell : row) {\n",
      "                   ^\n",
      "main.cpp:134:31: warning: range-based for loop is a C++11 extension [-Wc++11-extensions]\n",
      "        for (const auto& cell : row) {\n",
      "                              ^\n",
      "main.cpp:196:14: warning: 'auto' type specifier is a C++11 extension [-Wc++11-extensions]\n",
      "        for (auto net : cellNets[y_val]) { \n",
      "             ^\n",
      "main.cpp:196:23: warning: range-based for loop is a C++11 extension [-Wc++11-extensions]\n",
      "        for (auto net : cellNets[y_val]) { \n",
      "                      ^\n",
      "main.cpp:205:12: warning: 'auto' type specifier is a C++11 extension [-Wc++11-extensions]\n",
      "      for (auto net : cellNets[x_val]){\n",
      "           ^\n",
      "main.cpp:205:21: warning: range-based for loop is a C++11 extension [-Wc++11-extensions]\n",
      "      for (auto net : cellNets[x_val]){\n",
      "                    ^\n",
      "main.cpp:282:3: warning: 'auto' type specifier is a C++11 extension [-Wc++11-extensions]\n",
      "  auto start = chrono::high_resolution_clock::now();\n",
      "  ^\n",
      "main.cpp:285:3: warning: 'auto' type specifier is a C++11 extension [-Wc++11-extensions]\n",
      "  auto end = chrono::high_resolution_clock::now();\n",
      "  ^\n",
      "main.cpp:286:3: warning: 'auto' type specifier is a C++11 extension [-Wc++11-extensions]\n",
      "  auto duration = chrono::duration_cast<chrono::milliseconds>(end - start);\n",
      "  ^\n",
      "13 warnings generated.\n",
      "\n"
     ]
    }
   ],
   "source": [
    "command = \"g++ -O3 -o main main.cpp\"\n",
    "run_command(command)"
   ]
  },
  {
   "cell_type": "code",
   "execution_count": 51,
   "metadata": {},
   "outputs": [
    {
     "name": "stdout",
     "output_type": "stream",
     "text": [
      "Command output: Final Grid: \n",
      "-- -- -- -- -- -- -- 1126 -- 840 1259 372 810 118 806 114 1130 214 -- 96 885 921 198 409 392 -- 401 247 316 1076 -- -- 1101 997 516 493 100 94 01 624 622 -- -- 117 -- 97 708 115 -- -- \n",
      "-- -- -- -- 686 1088 156 1127 397 470 231 728 714 838 769 851 248 945 203 1032 914 518 242 26 519 479 843 123 440 162 696 -- 1265 271 606 618 341 629 698 17 1050 621 845 -- 142 00 151 -- -- -- \n",
      "-- -- -- 687 413 684 566 78 1271 472 471 758 464 506 707 771 501 1256 379 258 1037 548 168 544 991 568 1269 878 1140 617 616 642 656 735 620 737 513 320 308 1270 962 307 802 941 -- 102 -- -- 111 -- \n",
      "-- 863 30 839 813 1161 483 1134 09 823 1052 1171 796 601 505 1248 31 450 850 486 336 727 1151 976 611 785 951 368 763 414 439 922 197 191 294 628 216 1042 309 387 495 48 485 436 -- -- 229 721 -- -- \n",
      "-- 815 816 814 317 692 908 310 154 825 948 824 1197 798 133 749 391 1082 572 571 1157 299 355 444 916 880 777 327 1258 150 832 1288 626 473 712 634 511 857 1159 697 887 302 279 780 52 801 -- 98 -- -- \n",
      "-- -- 109 175 265 818 772 576 284 1150 897 1203 799 135 126 748 169 136 867 610 520 1209 1155 367 217 232 333 153 884 986 431 1215 1044 240 275 170 1236 512 1091 539 821 345 352 965 426 1093 874 871 196 -- \n",
      "-- -- 1051 178 322 731 1038 324 980 852 35 896 902 1058 95 1250 449 882 996 1230 615 775 165 703 412 954 957 876 690 393 134 834 359 565 812 344 190 228 108 830 51 543 1180 958 492 373 427 507 906 -- \n",
      "-- -- 627 514 822 523 1206 938 347 254 12 1213 746 904 260 1094 750 567 13 609 171 1026 437 881 950 713 339 886 870 1172 262 357 1221 630 651 1282 124 665 285 538 784 1263 1065 846 264 790 364 230 03 -- \n",
      "-- 1156 446 1027 835 873 641 931 377 646 755 738 179 596 503 41 1212 952 1132 890 438 425 1254 209 441 488 570 1289 127 1153 663 1009 1117 1243 259 1110 19 1023 1241 1162 915 778 330 139 1280 57 72 589 540 186 \n",
      "-- -- 828 638 640 77 1079 1227 594 1071 1080 32 1214 389 274 607 1208 369 74 313 304 466 343 1054 653 1045 1268 27 235 1046 1257 715 558 517 1086 1040 1001 1114 491 1000 660 856 877 1020 988 281 1119 416 569 353 \n",
      "-- 1125 395 402 829 1031 833 110 685 1220 898 623 717 1121 390 25 1229 868 1129 963 348 999 955 361 187 768 805 500 1276 174 1118 273 649 1049 24 595 1059 740 1002 1070 1056 953 270 06 1247 1244 1154 1048 541 -- \n",
      "-- 1030 1249 321 144 400 325 40 1131 205 722 946 773 131 564 836 752 826 1135 130 10 981 918 87 1115 45 756 89 172 237 207 807 1242 64 929 961 1004 1144 385 384 743 550 1013 959 711 116 1176 678 1089 658 \n",
      "-- 403 1061 502 1283 1007 381 103 202 44 1012 753 189 206 1055 1233 671 143 1043 509 677 757 428 879 1194 883 1008 86 1266 283 1015 928 730 286 1095 699 226 865 350 66 183 853 1185 224 380 1175 891 145 280 590 \n",
      "-- 204 546 1231 643 969 700 243 312 900 334 1138 180 43 555 551 1069 293 1183 676 476 166 872 1232 994 664 849 510 860 998 1218 978 68 1073 61 346 720 693 1189 545 1225 581 225 848 227 842 319 1279 315 591 \n",
      "652 751 1096 584 1184 949 173 655 56 289 899 99 335 1152 599 600 429 236 795 448 267 1228 1014 841 827 67 362 370 1287 1223 1281 1168 490 93 930 453 1010 244 521 340 268 480 494 80 468 342 460 250 770 238 \n",
      "536 992 54 1067 1098 62 645 1034 1066 598 605 793 1146 1147 603 1068 1074 747 433 303 527 1081 50 1148 69 469 22 804 155 298 37 20 21 65 532 888 1200 266 774 213 1024 1022 445 383 219 1186 454 407 619 659 \n",
      "-- 215 562 925 15 75 53 84 106 404 181 1262 602 869 893 276 328 113 940 90 977 936 614 979 1063 351 1284 34 791 465 300 1238 1016 1028 141 269 762 910 1267 85 292 1017 331 1107 477 944 776 759 592 -- \n",
      "-- 561 1142 1137 1217 650 185 689 147 732 305 1143 1033 1139 122 234 907 443 990 1261 149 1177 120 1272 1196 933 287 691 452 781 363 318 1174 119 311 105 63 695 1112 858 278 277 354 819 935 820 1078 1077 421 420 \n",
      "597 1029 932 455 423 1178 208 1239 184 210 458 447 973 146 1163 223 295 1202 159 526 982 59 983 29 18 786 200 1104 1083 625 365 654 1133 889 913 241 349 844 245 912 1047 71 1003 1109 1105 314 701 1106 419 892 \n",
      "374 811 575 1211 467 729 199 972 1285 398 1102 1085 386 782 1253 167 246 1252 218 489 917 376 1240 253 1064 984 212 716 854 1090 297 366 704 1207 1195 193 375 847 909 306 613 866 744 435 1092 482 430 160 451 739 \n",
      "188 1275 725 647 1201 706 1120 837 28 894 604 710 47 478 1277 736 742 1234 800 405 927 905 608 702 985 211 1181 422 484 661 926 1108 323 1173 585 1164 222 547 817 864 1025 481 1251 1158 515 463 424 462 46 -- \n",
      "-- 1053 1210 831 1097 681 787 682 672 967 406 670 408 554 382 508 993 261 128 496 194 1035 1278 49 58 220 639 1193 794 282 975 1057 1113 1122 862 1128 1021 1224 1103 55 73 1166 1237 417 947 542 394 920 257 256 \n",
      "-- 192 11 683 1100 1205 83 673 674 974 1006 669 76 79 556 121 525 741 36 1165 764 588 705 1072 129 457 177 1198 1116 718 1124 358 475 861 356 657 524 911 1123 107 1246 1179 745 201 631 1075 552 461 1005 -- \n",
      "-- 1141 560 1199 694 680 399 939 783 968 38 60 637 1188 636 487 577 1190 648 410 1274 809 233 132 1145 754 1041 875 633 371 919 272 644 943 1222 1191 1264 125 148 1286 499 760 252 1149 709 296 559 -- 112 1260 \n",
      "-- 934 -- 970 582 92 528 82 16 249 734 1018 923 1019 971 942 895 578 360 679 1255 498 586 937 563 789 182 291 632 662 332 263 396 549 442 378 418 1192 903 989 960 855 152 07 1187 733 459 -- -- -- \n",
      "-- -- -- 583 580 221 1170 176 995 675 779 1062 593 553 158 723 792 1160 797 667 668 497 1273 415 432 1226 901 337 39 612 474 301 1084 456 666 1167 1087 411 535 05 02 81 537 1219 557 -- 23 -- 338 -- \n",
      "-- -- -- 688 987 1182 956 803 1204 -- 251 1011 434 719 140 42 138 290 766 161 767 522 1111 1136 529 33 530 163 329 326 -- 587 1169 70 635 1060 573 137 288 534 808 1216 966 859 04 726 -- -- 08 -- \n",
      "-- -- -- -- -- -- -- 1039 724 -- 1036 -- 91 1235 1099 964 -- -- -- 761 765 388 -- 157 -- 531 -- 195 -- 255 101 924 1245 88 -- 239 164 14 504 533 579 574 -- -- -- 788 -- -- 104 -- \n",
      "Final Binary Grid: \n",
      "0 0 0 0 0 0 0 1 0 1 1 1 1 1 1 1 1 1 0 1 1 1 1 1 1 0 1 1 1 1 0 0 1 1 1 1 1 1 1 1 1 0 0 1 0 1 1 1 0 0 \n",
      "0 0 0 0 1 1 1 1 1 1 1 1 1 1 1 1 1 1 1 1 1 1 1 1 1 1 1 1 1 1 1 0 1 1 1 1 1 1 1 1 1 1 1 0 1 1 1 0 0 0 \n",
      "0 0 0 1 1 1 1 1 1 1 1 1 1 1 1 1 1 1 1 1 1 1 1 1 1 1 1 1 1 1 1 1 1 1 1 1 1 1 1 1 1 1 1 1 0 1 0 0 1 0 \n",
      "0 1 1 1 1 1 1 1 1 1 1 1 1 1 1 1 1 1 1 1 1 1 1 1 1 1 1 1 1 1 1 1 1 1 1 1 1 1 1 1 1 1 1 1 0 0 1 1 0 0 \n",
      "0 1 1 1 1 1 1 1 1 1 1 1 1 1 1 1 1 1 1 1 1 1 1 1 1 1 1 1 1 1 1 1 1 1 1 1 1 1 1 1 1 1 1 1 1 1 0 1 0 0 \n",
      "0 0 1 1 1 1 1 1 1 1 1 1 1 1 1 1 1 1 1 1 1 1 1 1 1 1 1 1 1 1 1 1 1 1 1 1 1 1 1 1 1 1 1 1 1 1 1 1 1 0 \n",
      "0 0 1 1 1 1 1 1 1 1 1 1 1 1 1 1 1 1 1 1 1 1 1 1 1 1 1 1 1 1 1 1 1 1 1 1 1 1 1 1 1 1 1 1 1 1 1 1 1 0 \n",
      "0 0 1 1 1 1 1 1 1 1 1 1 1 1 1 1 1 1 1 1 1 1 1 1 1 1 1 1 1 1 1 1 1 1 1 1 1 1 1 1 1 1 1 1 1 1 1 1 1 0 \n",
      "0 1 1 1 1 1 1 1 1 1 1 1 1 1 1 1 1 1 1 1 1 1 1 1 1 1 1 1 1 1 1 1 1 1 1 1 1 1 1 1 1 1 1 1 1 1 1 1 1 1 \n",
      "0 0 1 1 1 1 1 1 1 1 1 1 1 1 1 1 1 1 1 1 1 1 1 1 1 1 1 1 1 1 1 1 1 1 1 1 1 1 1 1 1 1 1 1 1 1 1 1 1 1 \n",
      "0 1 1 1 1 1 1 1 1 1 1 1 1 1 1 1 1 1 1 1 1 1 1 1 1 1 1 1 1 1 1 1 1 1 1 1 1 1 1 1 1 1 1 1 1 1 1 1 1 0 \n",
      "0 1 1 1 1 1 1 1 1 1 1 1 1 1 1 1 1 1 1 1 1 1 1 1 1 1 1 1 1 1 1 1 1 1 1 1 1 1 1 1 1 1 1 1 1 1 1 1 1 1 \n",
      "0 1 1 1 1 1 1 1 1 1 1 1 1 1 1 1 1 1 1 1 1 1 1 1 1 1 1 1 1 1 1 1 1 1 1 1 1 1 1 1 1 1 1 1 1 1 1 1 1 1 \n",
      "0 1 1 1 1 1 1 1 1 1 1 1 1 1 1 1 1 1 1 1 1 1 1 1 1 1 1 1 1 1 1 1 1 1 1 1 1 1 1 1 1 1 1 1 1 1 1 1 1 1 \n",
      "1 1 1 1 1 1 1 1 1 1 1 1 1 1 1 1 1 1 1 1 1 1 1 1 1 1 1 1 1 1 1 1 1 1 1 1 1 1 1 1 1 1 1 1 1 1 1 1 1 1 \n",
      "1 1 1 1 1 1 1 1 1 1 1 1 1 1 1 1 1 1 1 1 1 1 1 1 1 1 1 1 1 1 1 1 1 1 1 1 1 1 1 1 1 1 1 1 1 1 1 1 1 1 \n",
      "0 1 1 1 1 1 1 1 1 1 1 1 1 1 1 1 1 1 1 1 1 1 1 1 1 1 1 1 1 1 1 1 1 1 1 1 1 1 1 1 1 1 1 1 1 1 1 1 1 0 \n",
      "0 1 1 1 1 1 1 1 1 1 1 1 1 1 1 1 1 1 1 1 1 1 1 1 1 1 1 1 1 1 1 1 1 1 1 1 1 1 1 1 1 1 1 1 1 1 1 1 1 1 \n",
      "1 1 1 1 1 1 1 1 1 1 1 1 1 1 1 1 1 1 1 1 1 1 1 1 1 1 1 1 1 1 1 1 1 1 1 1 1 1 1 1 1 1 1 1 1 1 1 1 1 1 \n",
      "1 1 1 1 1 1 1 1 1 1 1 1 1 1 1 1 1 1 1 1 1 1 1 1 1 1 1 1 1 1 1 1 1 1 1 1 1 1 1 1 1 1 1 1 1 1 1 1 1 1 \n",
      "1 1 1 1 1 1 1 1 1 1 1 1 1 1 1 1 1 1 1 1 1 1 1 1 1 1 1 1 1 1 1 1 1 1 1 1 1 1 1 1 1 1 1 1 1 1 1 1 1 0 \n",
      "0 1 1 1 1 1 1 1 1 1 1 1 1 1 1 1 1 1 1 1 1 1 1 1 1 1 1 1 1 1 1 1 1 1 1 1 1 1 1 1 1 1 1 1 1 1 1 1 1 1 \n",
      "0 1 1 1 1 1 1 1 1 1 1 1 1 1 1 1 1 1 1 1 1 1 1 1 1 1 1 1 1 1 1 1 1 1 1 1 1 1 1 1 1 1 1 1 1 1 1 1 1 0 \n",
      "0 1 1 1 1 1 1 1 1 1 1 1 1 1 1 1 1 1 1 1 1 1 1 1 1 1 1 1 1 1 1 1 1 1 1 1 1 1 1 1 1 1 1 1 1 1 1 0 1 1 \n",
      "0 1 0 1 1 1 1 1 1 1 1 1 1 1 1 1 1 1 1 1 1 1 1 1 1 1 1 1 1 1 1 1 1 1 1 1 1 1 1 1 1 1 1 1 1 1 1 0 0 0 \n",
      "0 0 0 1 1 1 1 1 1 1 1 1 1 1 1 1 1 1 1 1 1 1 1 1 1 1 1 1 1 1 1 1 1 1 1 1 1 1 1 1 1 1 1 1 1 0 1 0 1 0 \n",
      "0 0 0 1 1 1 1 1 1 0 1 1 1 1 1 1 1 1 1 1 1 1 1 1 1 1 1 1 1 1 0 1 1 1 1 1 1 1 1 1 1 1 1 1 1 1 0 0 1 0 \n",
      "0 0 0 0 0 0 0 1 1 0 1 0 1 1 1 1 0 0 0 1 1 1 0 1 0 1 0 1 0 1 1 1 1 1 0 1 1 1 1 1 1 1 0 0 0 1 0 0 1 0 \n",
      "Total wire length = 10766\n",
      "Where:\n",
      "• -- : Empty site\n",
      "• DD : The site has the component number DD\n",
      "\n",
      "Total time taken: 9257 milliseconds\n",
      "\n",
      "Command error (if any): \n"
     ]
    },
    {
     "name": "stderr",
     "output_type": "stream",
     "text": [
      "/var/folders/rj/rk3nbk3537g9r7jt8g9_3chw0000gn/T/ipykernel_1661/1836250826.py:14: DeprecationWarning: Starting with ImageIO v3 the behavior of this function will switch to that of iio.v3.imread. To keep the current behavior (and make this warning disappear) use `import imageio.v2 as imageio` or call `imageio.v2.imread` directly.\n",
      "  image = imageio.imread(frame_file)\n"
     ]
    }
   ],
   "source": [
    "run_command(\"./main\")\n",
    "time.sleep(2)\n",
    "grid_file = 'grid.txt'  # Path to the grid updates text file\n",
    "gif_file = 'grid_evolution.gif'  # Output GIF file name\n",
    "cost_file = 'cost.txt'\n",
    "\n",
    "grids = read_grids_from_file(grid_file)\n",
    "create_gif_from_grids(grids, gif_file, cost_file)\n",
    "clear_file(grid_file)\n",
    "os.remove(cost_file)"
   ]
  }
 ],
 "metadata": {
  "kernelspec": {
   "display_name": "Python 3",
   "language": "python",
   "name": "python3"
  },
  "language_info": {
   "codemirror_mode": {
    "name": "ipython",
    "version": 3
   },
   "file_extension": ".py",
   "mimetype": "text/x-python",
   "name": "python",
   "nbconvert_exporter": "python",
   "pygments_lexer": "ipython3",
   "version": "3.12.1"
  }
 },
 "nbformat": 4,
 "nbformat_minor": 2
}
